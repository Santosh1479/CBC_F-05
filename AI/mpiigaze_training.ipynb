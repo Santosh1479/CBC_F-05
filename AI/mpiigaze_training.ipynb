{
 "cells": [
  {
   "cell_type": "markdown",
   "metadata": {},
   "source": [
    "# AI Classroom Assistant - Attention Detection using MPIIGaze"
   ]
  },
  {
   "cell_type": "code",
   "execution_count": 11,
   "metadata": {},
   "outputs": [],
   "source": [
    "# Imports\n",
    "import os\n",
    "import torch\n",
    "import torch.nn as nn\n",
    "import torch.optim as optim\n",
    "from torch.utils.data import DataLoader\n",
    "from torchvision import datasets, transforms, models\n",
    "from sklearn.metrics import mean_squared_error, r2_score\n",
    "import matplotlib.pyplot as plt\n",
    "import numpy as np\n",
    "from torchvision.datasets.folder import default_loader\n",
    "from torch.utils.data import Dataset\n",
    "import pandas as pd\n",
    "from tqdm import tqdm\n",
    "import time\n",
    "from datetime import timedelta\n"
   ]
  },
  {
   "cell_type": "code",
   "execution_count": 2,
   "metadata": {},
   "outputs": [],
   "source": [
    "# Configuration\n",
    "DATA_DIR = r'D:\\\\Smart_EDU\\\\MPIIGaze\\\\Data\\\\Original'\n",
    "LABELS_FILE = r'D:\\\\Smart_EDU\\\\MPIIGaze\\\\labels.csv'\n",
    "EPOCHS = 10\n",
    "PATIENCE = 4\n",
    "BATCH_SIZE = 32\n",
    "IMG_SIZE = 224\n",
    "DEVICE = torch.device('cuda' if torch.cuda.is_available() else 'cpu')"
   ]
  },
  {
   "cell_type": "code",
   "execution_count": 3,
   "metadata": {},
   "outputs": [],
   "source": [
    "# Dataset Class\n",
    "class GazeDataset(Dataset):\n",
    "    def __init__(self, csv_file, root_dir, transform=None):\n",
    "        self.annotations = pd.read_csv(csv_file)\n",
    "        self.root_dir = root_dir\n",
    "        self.transform = transform\n",
    "\n",
    "    def __len__(self):\n",
    "        return len(self.annotations)\n",
    "\n",
    "    def __getitem__(self, idx):\n",
    "        img_path = os.path.join(self.root_dir, self.annotations.iloc[idx, 0])\n",
    "        image = default_loader(img_path)\n",
    "        label = torch.tensor(self.annotations.iloc[idx, 1:].values.astype(np.float32))\n",
    "        if self.transform:\n",
    "            image = self.transform(image)\n",
    "        return image, label"
   ]
  },
  {
   "cell_type": "code",
   "execution_count": 4,
   "metadata": {},
   "outputs": [],
   "source": [
    "# Transforms\n",
    "transform = transforms.Compose([\n",
    "    transforms.Resize((IMG_SIZE, IMG_SIZE)),\n",
    "    transforms.ToTensor(),\n",
    "    transforms.Normalize([0.5], [0.5])\n",
    "])\n",
    "\n",
    "dataset = GazeDataset(LABELS_FILE, DATA_DIR, transform=transform)\n",
    "train_size = int(0.8 * len(dataset))\n",
    "val_size = len(dataset) - train_size\n",
    "train_dataset, val_dataset = torch.utils.data.random_split(dataset, [train_size, val_size])\n",
    "train_loader = DataLoader(train_dataset, batch_size=BATCH_SIZE, shuffle=True)\n",
    "val_loader = DataLoader(val_dataset, batch_size=BATCH_SIZE, shuffle=False)"
   ]
  },
  {
   "cell_type": "code",
   "execution_count": 5,
   "metadata": {},
   "outputs": [
    {
     "name": "stderr",
     "output_type": "stream",
     "text": [
      "C:\\Users\\user\\AppData\\Local\\Packages\\PythonSoftwareFoundation.Python.3.10_qbz5n2kfra8p0\\LocalCache\\local-packages\\Python310\\site-packages\\torchvision\\models\\_utils.py:208: UserWarning: The parameter 'pretrained' is deprecated since 0.13 and may be removed in the future, please use 'weights' instead.\n",
      "  warnings.warn(\n",
      "C:\\Users\\user\\AppData\\Local\\Packages\\PythonSoftwareFoundation.Python.3.10_qbz5n2kfra8p0\\LocalCache\\local-packages\\Python310\\site-packages\\torchvision\\models\\_utils.py:223: UserWarning: Arguments other than a weight enum or `None` for 'weights' are deprecated since 0.13 and may be removed in the future. The current behavior is equivalent to passing `weights=MobileNet_V2_Weights.IMAGENET1K_V1`. You can also use `weights=MobileNet_V2_Weights.DEFAULT` to get the most up-to-date weights.\n",
      "  warnings.warn(msg)\n"
     ]
    }
   ],
   "source": [
    "# Model\n",
    "model = models.mobilenet_v2(pretrained=True)\n",
    "model.classifier[1] = nn.Linear(model.last_channel, 2)  # Assuming 2D gaze\n",
    "model = model.to(DEVICE)\n",
    "\n",
    "criterion = nn.MSELoss()\n",
    "optimizer = optim.Adam(model.parameters(), lr=0.001)"
   ]
  },
  {
   "cell_type": "code",
   "execution_count": null,
   "metadata": {},
   "outputs": [
    {
     "name": "stdout",
     "output_type": "stream",
     "text": [
      "Epoch [2/10] | Progress: 33.3% | Loss: 10231.1182 | Accuracy: 1.19% | Time: 0:17:48 / ETA: 0:35:37\r"
     ]
    }
   ],
   "source": [
    "# Training with Early Stopping, Resume capability, and Metrics\n",
    "\n",
    "def save_checkpoint(epoch, model, optimizer, train_losses, val_losses, best_loss):\n",
    "    torch.save({\n",
    "        'epoch': epoch,\n",
    "        'model_state_dict': model.state_dict(),\n",
    "        'optimizer_state_dict': optimizer.state_dict(),\n",
    "        'train_losses': train_losses,\n",
    "        'val_losses': val_losses,\n",
    "        'best_loss': best_loss\n",
    "    }, 'checkpoint.pt')\n",
    "\n",
    "# Try to load checkpoint if exists\n",
    "start_epoch = 0\n",
    "if os.path.exists('checkpoint.pt'):\n",
    "    checkpoint = torch.load('checkpoint.pt')\n",
    "    model.load_state_dict(checkpoint['model_state_dict'])\n",
    "    optimizer.load_state_dict(checkpoint['optimizer_state_dict'])\n",
    "    start_epoch = checkpoint['epoch'] + 1\n",
    "    train_losses = checkpoint['train_losses']\n",
    "    val_losses = checkpoint['val_losses']\n",
    "    best_loss = checkpoint['best_loss']\n",
    "else:\n",
    "    train_losses, val_losses = [], []\n",
    "    best_loss = float('inf')\n",
    "\n",
    "patience_counter = 0\n",
    "for epoch in range(start_epoch, EPOCHS):\n",
    "    epoch_start_time = time.time()\n",
    "    \n",
    "    # Training phase\n",
    "    model.train()\n",
    "    running_loss = 0\n",
    "    train_correct = 0\n",
    "    train_total = 0\n",
    "    train_start_time = time.time()\n",
    "    \n",
    "    for batch_idx, (inputs, labels) in enumerate(train_loader):\n",
    "        inputs, labels = inputs.to(DEVICE), labels.to(DEVICE)\n",
    "        optimizer.zero_grad()\n",
    "        outputs = model(inputs)\n",
    "        loss = criterion(outputs, labels)\n",
    "        loss.backward()\n",
    "        optimizer.step()\n",
    "        running_loss += loss.item()\n",
    "        \n",
    "        # Calculate accuracy (considering predictions within a threshold)\n",
    "        threshold = 10  # degrees\n",
    "        diff = torch.abs(outputs - labels)\n",
    "        correct = (diff <= threshold).all(dim=1).sum().item()\n",
    "        train_correct += correct\n",
    "        train_total += inputs.size(0)\n",
    "        \n",
    "        # Print epoch progress\n",
    "        current_train_acc = 100 * train_correct / train_total\n",
    "        elapsed_time = time.time() - epoch_start_time\n",
    "        remaining_time = (elapsed_time / (batch_idx + 1)) * (len(train_loader) - batch_idx - 1)\n",
    "        print(f'Epoch [{epoch+1}/{EPOCHS}] | '\n",
    "              f'Progress: {(batch_idx + 1)*100/len(train_loader):.1f}% | '\n",
    "              f'Loss: {loss.item():.4f} | '\n",
    "              f'Accuracy: {current_train_acc:.2f}% | '\n",
    "              f'Time: {timedelta(seconds=int(elapsed_time))} / ETA: {timedelta(seconds=int(remaining_time))}', end='\\r')\n",
    "    \n",
    "    train_loss = running_loss / len(train_loader)\n",
    "    train_accuracy = 100 * train_correct / train_total\n",
    "    train_time = time.time() - train_start_time\n",
    "\n",
    "    # Validation phase\n",
    "    model.eval()\n",
    "    val_loss = 0\n",
    "    val_correct = 0\n",
    "    val_total = 0\n",
    "    val_start_time = time.time()\n",
    "    \n",
    "    with torch.no_grad():\n",
    "        for inputs, labels in val_loader:\n",
    "            inputs, labels = inputs.to(DEVICE), labels.to(DEVICE)\n",
    "            outputs = model(inputs)\n",
    "            loss = criterion(outputs, labels)\n",
    "            val_loss += loss.item()\n",
    "            \n",
    "            # Calculate accuracy\n",
    "            diff = torch.abs(outputs - labels)\n",
    "            correct = (diff <= threshold).all(dim=1).sum().item()\n",
    "            val_correct += correct\n",
    "            val_total += inputs.size(0)\n",
    "    \n",
    "    val_loss = val_loss / len(val_loader)\n",
    "    val_accuracy = 100 * val_correct / val_total\n",
    "    val_time = time.time() - val_start_time\n",
    "    \n",
    "    # Save losses\n",
    "    train_losses.append(train_loss)\n",
    "    val_losses.append(val_loss)\n",
    "    \n",
    "    epoch_time = time.time() - epoch_start_time\n",
    "    \n",
    "    # Print epoch statistics with clear formatting\n",
    "    print('\\n' + '='*80)\n",
    "    print(f\"Epoch [{epoch+1}/{EPOCHS}] completed in {timedelta(seconds=int(epoch_time))}\")\n",
    "    print(f\"Training   - Loss: {train_loss:.4f}, Accuracy: {train_accuracy:.2f}% ({train_correct}/{train_total})\")\n",
    "    print(f\"Validation - Loss: {val_loss:.4f}, Accuracy: {val_accuracy:.2f}% ({val_correct}/{val_total})\")\n",
    "    print(f\"Time: Total: {timedelta(seconds=int(epoch_time))}, Train: {timedelta(seconds=int(train_time))}, Val: {timedelta(seconds=int(val_time))}\")\n",
    "    \n",
    "    # Save checkpoint after each epoch\n",
    "    save_checkpoint(epoch, model, optimizer, train_losses, val_losses, best_loss)\n",
    "\n",
    "    # Early stopping check\n",
    "    if val_loss < best_loss:\n",
    "        best_loss = val_loss\n",
    "        torch.save(model.state_dict(), 'best_model.pt')\n",
    "        print(\"✓ Saved new best model\")\n",
    "        patience_counter = 0\n",
    "    else:\n",
    "        patience_counter += 1\n",
    "        if patience_counter >= PATIENCE:\n",
    "            print('Early stopping triggered.')\n",
    "            break\n",
    "    print('='*80)"
   ]
  },
  {
   "cell_type": "code",
   "execution_count": null,
   "metadata": {},
   "outputs": [],
   "source": [
    "# Evaluation\n",
    "model.load_state_dict(torch.load('best_model.pt'))\n",
    "model.eval()\n",
    "preds, true_vals = [], []\n",
    "with torch.no_grad():\n",
    "    for inputs, labels in val_loader:\n",
    "        inputs = inputs.to(DEVICE)\n",
    "        outputs = model(inputs).cpu().numpy()\n",
    "        preds.extend(outputs)\n",
    "        true_vals.extend(labels.numpy())\n",
    "\n",
    "mse = mean_squared_error(true_vals, preds)\n",
    "rmse = np.sqrt(mse)\n",
    "r2 = r2_score(true_vals, preds)\n",
    "print(f\"RMSE: {rmse:.4f}, R^2: {r2:.4f}\")\n"
   ]
  },
  {
   "cell_type": "code",
   "execution_count": 16,
   "metadata": {},
   "outputs": [
    {
     "data": {
      "image/png": "[encoded data removed]",
      "text/plain": [
       "<Figure size 640x480 with 1 Axes>"
      ]
     },
     "metadata": {},
     "output_type": "display_data"
    }
   ],
   "source": [
    "\n",
    "# Plotting\n",
    "plt.plot(train_losses, label='Train Loss')\n",
    "plt.plot(val_losses, label='Val Loss')\n",
    "plt.legend()\n",
    "plt.xlabel('Epoch')\n",
    "plt.ylabel('Loss')\n",
    "plt.title('Training vs Validation Loss')\n",
    "plt.show()"
   ]
  }
 ],
 "metadata": {
  "kernelspec": {
   "display_name": "Python 3",
   "language": "python",
   "name": "python3"
  },
  "language_info": {
   "codemirror_mode": {
    "name": "ipython",
    "version": 3
   },
   "file_extension": ".py",
   "mimetype": "text/x-python",
   "name": "python",
   "nbconvert_exporter": "python",
   "pygments_lexer": "ipython3",
   "version": "3.10.11"
  }
 },
 "nbformat": 4,
 "nbformat_minor": 2
}
