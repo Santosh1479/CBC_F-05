{
 "cells": [
  {
   "cell_type": "markdown",
   "metadata": {},
   "source": [
    "# Head Pose Estimation using BIWI Dataset\n",
    "Lightweight CNN-based regression model for estimating pitch, yaw, and roll angles."
   ]
  },
  {
   "cell_type": "code",
   "execution_count": 3,
   "metadata": {},
   "outputs": [],
   "source": [
    "# Imports\n",
    "import torch\n",
    "import torch.nn as nn\n",
    "import torch.optim as optim\n",
    "from torch.utils.data import Dataset, DataLoader\n",
    "from torchvision import transforms, models\n",
    "import os\n",
    "import numpy as np\n",
    "from PIL import Image\n",
    "import matplotlib.pyplot as plt\n",
    "from sklearn.metrics import mean_squared_error, r2_score\n",
    "from tqdm import tqdm\n",
    "\n",
    "DEVICE = torch.device('cuda' if torch.cuda.is_available() else 'cpu')"
   ]
  },
  {
   "cell_type": "code",
   "execution_count": 4,
   "metadata": {},
   "outputs": [],
   "source": [
    "# Dataset class for BIWI\n",
    "class BIWIDataset(Dataset):\n",
    "    def __init__(self, image_paths, labels, transform=None):\n",
    "        self.image_paths = image_paths\n",
    "        self.labels = labels\n",
    "        self.transform = transform\n",
    "\n",
    "    def __len__(self):\n",
    "        return len(self.image_paths)\n",
    "\n",
    "    def __getitem__(self, idx):\n",
    "        image = Image.open(self.image_paths[idx]).convert('RGB')\n",
    "        if self.transform:\n",
    "            image = self.transform(image)\n",
    "        label = torch.tensor(self.labels[idx], dtype=torch.float32)\n",
    "        return image, label"
   ]
  },
  {
   "cell_type": "code",
   "execution_count": 5,
   "metadata": {},
   "outputs": [],
   "source": [
    "import os\n",
    "import cv2\n",
    "import torch\n",
    "from torch.utils.data import Dataset\n",
    "from torchvision import transforms\n",
    "import numpy as np\n",
    "\n",
    "class BIWIHeadPoseDataset(Dataset):\n",
    "    def __init__(self, root_dir):\n",
    "        self.root_dir = root_dir\n",
    "        self.image_files = []\n",
    "        self.pose_files = []\n",
    "        \n",
    "        for person_dir in sorted(os.listdir(root_dir)):\n",
    "            person_path = os.path.join(root_dir, person_dir)\n",
    "            if not os.path.isdir(person_path):\n",
    "                continue\n",
    "            for file in sorted(os.listdir(person_path)):\n",
    "                if file.endswith('_rgb.jpg'):\n",
    "                    frame_id = file.replace('_rgb.jpg', '')\n",
    "                    img_path = os.path.join(person_path, file)\n",
    "                    pose_path = os.path.join(person_path, frame_id + '_pose.txt')\n",
    "                    if os.path.exists(pose_path):\n",
    "                        self.image_files.append(img_path)\n",
    "                        self.pose_files.append(pose_path)\n",
    "\n",
    "        self.transform = transforms.Compose([\n",
    "            transforms.ToPILImage(),\n",
    "            transforms.Resize((224, 224)),\n",
    "            transforms.ToTensor()\n",
    "        ])\n",
    "\n",
    "    def __len__(self):\n",
    "        return len(self.image_files)\n",
    "\n",
    "    def __getitem__(self, idx):\n",
    "        img_path = self.image_files[idx]\n",
    "        pose_path = self.pose_files[idx]\n",
    "\n",
    "        # Load image\n",
    "        img = cv2.imread(img_path)\n",
    "        img = cv2.cvtColor(img, cv2.COLOR_BGR2RGB)\n",
    "        img = self.transform(img)\n",
    "\n",
    "        # Load head pose\n",
    "        with open(pose_path) as f:\n",
    "            lines = f.readlines()\n",
    "            rotation_matrix = np.array([[float(num) for num in line.strip().split()] for line in lines[:3]])\n",
    "            pitch = np.arcsin(-rotation_matrix[2][0]) * 180 / np.pi\n",
    "            yaw = np.arctan2(rotation_matrix[2][1], rotation_matrix[2][2]) * 180 / np.pi\n",
    "            roll = np.arctan2(rotation_matrix[1][0], rotation_matrix[0][0]) * 180 / np.pi\n",
    "            angles = torch.tensor([pitch, yaw, roll], dtype=torch.float32)\n",
    "\n",
    "        return img, angles\n"
   ]
  },
  {
   "cell_type": "code",
   "execution_count": 6,
   "metadata": {},
   "outputs": [
    {
     "name": "stdout",
     "output_type": "stream",
     "text": [
      "torch.Size([32, 3, 224, 224]) torch.Size([32, 3])\n"
     ]
    }
   ],
   "source": [
    "from torch.utils.data import DataLoader\n",
    "\n",
    "dataset = BIWIHeadPoseDataset(root_dir='D:/biwi_head_pose/biwi_head_pose')\n",
    "dataloader = DataLoader(dataset, batch_size=32, shuffle=True)\n",
    "\n",
    "# Example usage\n",
    "images, labels = next(iter(dataloader))\n",
    "print(images.shape, labels.shape)  # (32, 3, 224, 224) and (32, 3)\n"
   ]
  },
  {
   "cell_type": "code",
   "execution_count": null,
   "metadata": {},
   "outputs": [],
   "source": [
    "# # Example data loading (Replace with actual paths and angles)\n",
    "# image_paths = ['path/to/image1.png', 'path/to/image2.png']\n",
    "# labels = [[0.0, 0.0, 0.0], [10.0, 5.0, -3.0]]  # pitch, yaw, roll\n",
    "\n",
    "# transform = transforms.Compose([\n",
    "#     transforms.Resize((224, 224)),\n",
    "#     transforms.ToTensor(),\n",
    "#     transforms.Normalize([0.5]*3, [0.5]*3)\n",
    "# ])\n",
    "\n",
    "# dataset = BIWIDataset(image_paths, labels, transform=transform)\n",
    "# train_loader = DataLoader(dataset, batch_size=2, shuffle=True)"
   ]
  },
  {
   "cell_type": "code",
   "execution_count": 7,
   "metadata": {},
   "outputs": [
    {
     "name": "stderr",
     "output_type": "stream",
     "text": [
      "C:\\Users\\user\\AppData\\Local\\Packages\\PythonSoftwareFoundation.Python.3.10_qbz5n2kfra8p0\\LocalCache\\local-packages\\Python310\\site-packages\\torchvision\\models\\_utils.py:208: UserWarning: The parameter 'pretrained' is deprecated since 0.13 and may be removed in the future, please use 'weights' instead.\n",
      "  warnings.warn(\n",
      "C:\\Users\\user\\AppData\\Local\\Packages\\PythonSoftwareFoundation.Python.3.10_qbz5n2kfra8p0\\LocalCache\\local-packages\\Python310\\site-packages\\torchvision\\models\\_utils.py:223: UserWarning: Arguments other than a weight enum or `None` for 'weights' are deprecated since 0.13 and may be removed in the future. The current behavior is equivalent to passing `weights=MobileNet_V2_Weights.IMAGENET1K_V1`. You can also use `weights=MobileNet_V2_Weights.DEFAULT` to get the most up-to-date weights.\n",
      "  warnings.warn(msg)\n"
     ]
    }
   ],
   "source": [
    "# Model definition\n",
    "model = models.mobilenet_v2(pretrained=True)\n",
    "model.classifier[1] = nn.Linear(model.last_channel, 3)  # pitch, yaw, roll\n",
    "model = model.to(DEVICE)\n",
    "\n",
    "criterion = nn.MSELoss()\n",
    "optimizer = optim.Adam(model.parameters(), lr=0.001)"
   ]
  },
  {
   "cell_type": "code",
   "execution_count": 8,
   "metadata": {},
   "outputs": [
    {
     "name": "stdout",
     "output_type": "stream",
     "text": [
      "Epoch [1/10] | Progress: 100.0% | Loss: 70.6703 | Accuracy: 86.59% | Time: 0:15:32 / ETA: 0:00:00\n",
      "================================================================================\n",
      "Epoch [1/10] completed in 0:15:32\n",
      "Training   - Loss: 70.6703, Accuracy: 86.59% (13576/15678)\n",
      "Validation - Loss: 27.6222, Accuracy: 90.06% (14119/15678)\n",
      "Time: Total: 0:17:01, Train: 0:15:32, Val: 0:01:28\n",
      "✓ Saved new best model\n",
      "================================================================================\n",
      "Epoch [2/10] | Progress: 2.2% | Loss: 36.8583 | Accuracy: 90.62% | Time: 0:00:15 / ETA: 0:11:19"
     ]
    },
    {
     "ename": "KeyboardInterrupt",
     "evalue": "",
     "output_type": "error",
     "traceback": [
      "\u001b[1;31m---------------------------------------------------------------------------\u001b[0m",
      "\u001b[1;31mKeyboardInterrupt\u001b[0m                         Traceback (most recent call last)",
      "Cell \u001b[1;32mIn[8], line 46\u001b[0m\n\u001b[0;32m     43\u001b[0m loss\u001b[38;5;241m.\u001b[39mbackward()\n\u001b[0;32m     44\u001b[0m optimizer\u001b[38;5;241m.\u001b[39mstep()\n\u001b[1;32m---> 46\u001b[0m running_loss \u001b[38;5;241m+\u001b[39m\u001b[38;5;241m=\u001b[39m \u001b[43mloss\u001b[49m\u001b[38;5;241;43m.\u001b[39;49m\u001b[43mitem\u001b[49m\u001b[43m(\u001b[49m\u001b[43m)\u001b[49m\n\u001b[0;32m     48\u001b[0m \u001b[38;5;66;03m# Calculate accuracy\u001b[39;00m\n\u001b[0;32m     49\u001b[0m _, predicted \u001b[38;5;241m=\u001b[39m torch\u001b[38;5;241m.\u001b[39mmax(outputs, \u001b[38;5;241m1\u001b[39m)\n",
      "\u001b[1;31mKeyboardInterrupt\u001b[0m: "
     ]
    }
   ],
   "source": [
    "# Training loop\n",
    "EPOCHS = 10\n",
    "PATIENCE = 4\n",
    "best_loss = float('inf')\n",
    "patience_counter = 0\n",
    "train_losses = []\n",
    "train_accuracies = []\n",
    "val_losses = []\n",
    "val_accuracies = []\n",
    "\n",
    "# For checkpointing\n",
    "checkpoint_path = 'head_pose_checkpoint.pt'\n",
    "\n",
    "# Load checkpoint if exists\n",
    "if os.path.exists(checkpoint_path):\n",
    "    checkpoint = torch.load(checkpoint_path)\n",
    "    model.load_state_dict(checkpoint['model_state_dict'])\n",
    "    optimizer.load_state_dict(checkpoint['optimizer_state_dict'])\n",
    "    start_epoch = checkpoint['epoch']\n",
    "    train_losses = checkpoint['train_losses']\n",
    "    best_loss = checkpoint['best_loss']\n",
    "    print(f\"Resuming from epoch {start_epoch}\")\n",
    "else:\n",
    "    start_epoch = 0\n",
    "\n",
    "def format_time(seconds):\n",
    "    return str(timedelta(seconds=int(seconds)))\n",
    "\n",
    "for epoch in range(start_epoch, EPOCHS):\n",
    "    model.train()\n",
    "    running_loss = 0.0\n",
    "    correct = 0\n",
    "    total = 0\n",
    "    epoch_start_time = time.time()\n",
    "    total_batches = len(dataloader)\n",
    "    \n",
    "    for batch_idx, (inputs, targets) in enumerate(dataloader):\n",
    "        inputs, targets = inputs.to(DEVICE), targets.to(DEVICE)\n",
    "        \n",
    "        optimizer.zero_grad()\n",
    "        outputs = model(inputs)\n",
    "        loss = criterion(outputs, targets)\n",
    "        loss.backward()\n",
    "        optimizer.step()\n",
    "        \n",
    "        running_loss += loss.item()\n",
    "        \n",
    "        # Calculate accuracy\n",
    "        _, predicted = torch.max(outputs, 1)\n",
    "        _, target_labels = torch.max(targets, 1)\n",
    "        correct += (predicted == target_labels).sum().item()\n",
    "        total += targets.size(0)\n",
    "        \n",
    "        # Calculate progress and time estimates\n",
    "        progress = (batch_idx + 1) / total_batches * 100\n",
    "        elapsed_time = time.time() - epoch_start_time\n",
    "        eta = (total_batches - (batch_idx + 1)) * (elapsed_time / (batch_idx + 1))\n",
    "        \n",
    "        # Print simplified progress\n",
    "        print(f\"\\rEpoch [{epoch+1}/{EPOCHS}] | Progress: {progress:.1f}% | \"\n",
    "              f\"Loss: {running_loss/(batch_idx+1):.4f} | \"\n",
    "              f\"Accuracy: {100 * correct / total:.2f}% | \"\n",
    "              f\"Time: {format_time(elapsed_time)} / ETA: {format_time(eta)}\", \n",
    "              end=\"\")\n",
    "    \n",
    "    epoch_loss = running_loss / len(dataloader)\n",
    "    epoch_accuracy = 100 * correct / total\n",
    "    train_losses.append(epoch_loss)\n",
    "    train_accuracies.append(epoch_accuracy)\n",
    "    \n",
    "    print(\"\\n\" + \"=\"*80)\n",
    "    print(f\"Epoch [{epoch+1}/{EPOCHS}] completed in {format_time(time.time() - epoch_start_time)}\")\n",
    "    print(f\"Training   - Loss: {epoch_loss:.4f}, Accuracy: {epoch_accuracy:.2f}% ({correct}/{total})\")\n",
    "    \n",
    "    # Validation (if applicable)\n",
    "    model.eval()\n",
    "    val_loss = 0.0\n",
    "    val_correct = 0\n",
    "    val_total = 0\n",
    "    val_start_time = time.time()\n",
    "    \n",
    "    with torch.no_grad():\n",
    "        for inputs, targets in dataloader:  # Replace with validation dataloader if available\n",
    "            inputs, targets = inputs.to(DEVICE), targets.to(DEVICE)\n",
    "            outputs = model(inputs)\n",
    "            loss = criterion(outputs, targets)\n",
    "            val_loss += loss.item()\n",
    "            \n",
    "            _, predicted = torch.max(outputs, 1)\n",
    "            _, target_labels = torch.max(targets, 1)\n",
    "            val_correct += (predicted == target_labels).sum().item()\n",
    "            val_total += targets.size(0)\n",
    "    \n",
    "    val_loss /= len(dataloader)  # Replace with validation dataloader length if available\n",
    "    val_accuracy = 100 * val_correct / val_total\n",
    "    val_losses.append(val_loss)\n",
    "    val_accuracies.append(val_accuracy)\n",
    "    \n",
    "    print(f\"Validation - Loss: {val_loss:.4f}, Accuracy: {val_accuracy:.2f}% ({val_correct}/{val_total})\")\n",
    "    print(f\"Time: Total: {format_time(time.time() - epoch_start_time)}, \"\n",
    "          f\"Train: {format_time(elapsed_time)}, Val: {format_time(time.time() - val_start_time)}\")\n",
    "    \n",
    "    # Save checkpoint\n",
    "    torch.save({\n",
    "        'epoch': epoch + 1,\n",
    "        'model_state_dict': model.state_dict(),\n",
    "        'optimizer_state_dict': optimizer.state_dict(),\n",
    "        'train_losses': train_losses,\n",
    "        'best_loss': best_loss\n",
    "    }, checkpoint_path)\n",
    "    \n",
    "    if val_loss < best_loss:\n",
    "        best_loss = val_loss\n",
    "        torch.save(model.state_dict(), 'head_pose_best_model.pt')\n",
    "        patience_counter = 0\n",
    "        print(\"✓ Saved new best model\")\n",
    "    else:\n",
    "        patience_counter += 1\n",
    "        if patience_counter >= PATIENCE:\n",
    "            print(\"Early stopping triggered.\")\n",
    "            break\n",
    "    \n",
    "    print(\"=\"*80)\n"
   ]
  },
  {
   "cell_type": "code",
   "execution_count": 14,
   "metadata": {},
   "outputs": [
    {
     "data": {
      "image/png": "[encoded data removed]",
      "text/plain": [
       "<Figure size 640x480 with 1 Axes>"
      ]
     },
     "metadata": {},
     "output_type": "display_data"
    }
   ],
   "source": [
    "# Plot losses\n",
    "plt.plot(train_losses, label='Training Loss')\n",
    "plt.xlabel('Epoch')\n",
    "plt.ylabel('MSE Loss')\n",
    "plt.title('Training Loss Over Epochs')\n",
    "plt.legend()\n",
    "plt.show()"
   ]
  },
  {
   "cell_type": "code",
   "execution_count": null,
   "metadata": {},
   "outputs": [],
   "source": []
  }
 ],
 "metadata": {
  "kernelspec": {
   "display_name": "Python 3",
   "language": "python",
   "name": "python3"
  },
  "language_info": {
   "codemirror_mode": {
    "name": "ipython",
    "version": 3
   },
   "file_extension": ".py",
   "mimetype": "text/x-python",
   "name": "python",
   "nbconvert_exporter": "python",
   "pygments_lexer": "ipython3",
   "version": "3.10.11"
  }
 },
 "nbformat": 4,
 "nbformat_minor": 4
}
